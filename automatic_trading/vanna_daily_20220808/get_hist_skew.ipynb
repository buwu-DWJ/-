{
 "cells": [
  {
   "cell_type": "code",
   "execution_count": 3,
   "metadata": {},
   "outputs": [],
   "source": [
    "import pandas as pd\n",
    "import numpy as np\n",
    "import warnings\n",
    "import datetime\n",
    "import time\n",
    "import talib as ta\n",
    "import tcoreapi_mq as t\n",
    "from dwj_tools.Lib_OptionCalculator import CalVannaCall\n",
    "from dwj_tools.Lib_OptionCalculator import CalVannaPut\n",
    "from dwj_tools.Lib_OptionCalculator import CalIVPut\n",
    "from dwj_tools.Lib_OptionCalculator import CalDeltaPut\n",
    "from dwj_tools.Lib_OptionCalculator import CalIVCall\n",
    "from dwj_tools.Lib_OptionCalculator import CalDeltaCall\n",
    "from dwj_tools.Lib_OptionCalculator import CalThetaCall\n",
    "from dwj_tools.Lib_OptionCalculator import CalThetaPut\n",
    "from dwj_tools.Lib_OptionCalculator import CalVegaCall\n",
    "from dwj_tools.Lib_OptionCalculator import CalVegaPut\n",
    "from pylab import mpl\n",
    "\n",
    "mpl.rcParams['font.sans-serif'] = ['SimHei']\n",
    "mpl.rcParams['axes.unicode_minus'] = False\n",
    "warnings.simplefilter('ignore')\n",
    "core = t.TCoreZMQ(quote_port=\"51864\", trade_port=\"51834\")"
   ]
  },
  {
   "cell_type": "code",
   "execution_count": 6,
   "metadata": {},
   "outputs": [],
   "source": [
    "etf_hist = pd.DataFrame(core.SubHistory('TC.S.SSE.510050','DK','2020010200','2022081500'))"
   ]
  },
  {
   "cell_type": "code",
   "execution_count": 8,
   "metadata": {},
   "outputs": [],
   "source": [
    "date = list(etf_hist['Date'])"
   ]
  },
  {
   "cell_type": "code",
   "execution_count": null,
   "metadata": {},
   "outputs": [],
   "source": [
    "\n",
    "for i in date[-140:]:\n",
    "    option_info = core.QueryAllInstrumentInfo('Options',i)\n",
    "    while option_info['Success']!='OK':\n",
    "        option_info = core.QueryAllInstrumentInfo('Options',i)\n",
    "    crt_hot_month = option_info['Instruments']['Node'][0]['Node'][0]['Node'][2]['CHS']\n",
    "    "
   ]
  },
  {
   "cell_type": "code",
   "execution_count": null,
   "metadata": {},
   "outputs": [],
   "source": [
    "np.zeros()"
   ]
  }
 ],
 "metadata": {
  "kernelspec": {
   "display_name": "Python 3.8.3 ('base')",
   "language": "python",
   "name": "python3"
  },
  "language_info": {
   "codemirror_mode": {
    "name": "ipython",
    "version": 3
   },
   "file_extension": ".py",
   "mimetype": "text/x-python",
   "name": "python",
   "nbconvert_exporter": "python",
   "pygments_lexer": "ipython3",
   "version": "3.8.3"
  },
  "orig_nbformat": 4,
  "vscode": {
   "interpreter": {
    "hash": "475f7968efcdb8fa0e0406a8c8c98e6f731394797b5a8458c1dea81902a9ec46"
   }
  }
 },
 "nbformat": 4,
 "nbformat_minor": 2
}
